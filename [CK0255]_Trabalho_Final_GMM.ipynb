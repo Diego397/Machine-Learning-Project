{
  "cells": [
    {
      "cell_type": "markdown",
      "metadata": {
        "id": "lKcIXLS6tl3s"
      },
      "source": [
        "### **Bibliotecas**"
      ]
    },
    {
      "cell_type": "code",
      "execution_count": 11,
      "metadata": {
        "id": "B5X4p-yitg1m"
      },
      "outputs": [],
      "source": [
        "import pandas as pd\n",
        "import numpy as np\n",
        "\n",
        "from sklearn.preprocessing import StandardScaler\n",
        "from imblearn.under_sampling import RandomUnderSampler\n",
        "from sklearn.model_selection import train_test_split"
      ]
    },
    {
      "cell_type": "markdown",
      "metadata": {
        "id": "tyzjaKV2tO1P"
      },
      "source": [
        "### **Import Data**"
      ]
    },
    {
      "cell_type": "code",
      "execution_count": 12,
      "metadata": {
        "colab": {
          "base_uri": "https://localhost:8080/",
          "height": 206
        },
        "id": "7_g81QsJsfuF",
        "outputId": "b6c75087-aa1a-467b-d74b-46369135efca"
      },
      "outputs": [
        {
          "data": {
            "text/html": [
              "<div>\n",
              "<style scoped>\n",
              "    .dataframe tbody tr th:only-of-type {\n",
              "        vertical-align: middle;\n",
              "    }\n",
              "\n",
              "    .dataframe tbody tr th {\n",
              "        vertical-align: top;\n",
              "    }\n",
              "\n",
              "    .dataframe thead th {\n",
              "        text-align: right;\n",
              "    }\n",
              "</style>\n",
              "<table border=\"1\" class=\"dataframe\">\n",
              "  <thead>\n",
              "    <tr style=\"text-align: right;\">\n",
              "      <th></th>\n",
              "      <th>gender</th>\n",
              "      <th>age</th>\n",
              "      <th>hypertension</th>\n",
              "      <th>heart_disease</th>\n",
              "      <th>smoking_history</th>\n",
              "      <th>bmi</th>\n",
              "      <th>HbA1c_level</th>\n",
              "      <th>blood_glucose_level</th>\n",
              "      <th>diabetes</th>\n",
              "    </tr>\n",
              "  </thead>\n",
              "  <tbody>\n",
              "    <tr>\n",
              "      <th>0</th>\n",
              "      <td>Female</td>\n",
              "      <td>80.0</td>\n",
              "      <td>0</td>\n",
              "      <td>1</td>\n",
              "      <td>never</td>\n",
              "      <td>25.19</td>\n",
              "      <td>6.6</td>\n",
              "      <td>140</td>\n",
              "      <td>0</td>\n",
              "    </tr>\n",
              "    <tr>\n",
              "      <th>1</th>\n",
              "      <td>Female</td>\n",
              "      <td>54.0</td>\n",
              "      <td>0</td>\n",
              "      <td>0</td>\n",
              "      <td>No Info</td>\n",
              "      <td>27.32</td>\n",
              "      <td>6.6</td>\n",
              "      <td>80</td>\n",
              "      <td>0</td>\n",
              "    </tr>\n",
              "    <tr>\n",
              "      <th>2</th>\n",
              "      <td>Male</td>\n",
              "      <td>28.0</td>\n",
              "      <td>0</td>\n",
              "      <td>0</td>\n",
              "      <td>never</td>\n",
              "      <td>27.32</td>\n",
              "      <td>5.7</td>\n",
              "      <td>158</td>\n",
              "      <td>0</td>\n",
              "    </tr>\n",
              "    <tr>\n",
              "      <th>3</th>\n",
              "      <td>Female</td>\n",
              "      <td>36.0</td>\n",
              "      <td>0</td>\n",
              "      <td>0</td>\n",
              "      <td>current</td>\n",
              "      <td>23.45</td>\n",
              "      <td>5.0</td>\n",
              "      <td>155</td>\n",
              "      <td>0</td>\n",
              "    </tr>\n",
              "    <tr>\n",
              "      <th>4</th>\n",
              "      <td>Male</td>\n",
              "      <td>76.0</td>\n",
              "      <td>1</td>\n",
              "      <td>1</td>\n",
              "      <td>current</td>\n",
              "      <td>20.14</td>\n",
              "      <td>4.8</td>\n",
              "      <td>155</td>\n",
              "      <td>0</td>\n",
              "    </tr>\n",
              "  </tbody>\n",
              "</table>\n",
              "</div>"
            ],
            "text/plain": [
              "   gender   age  hypertension  heart_disease smoking_history    bmi  \\\n",
              "0  Female  80.0             0              1           never  25.19   \n",
              "1  Female  54.0             0              0         No Info  27.32   \n",
              "2    Male  28.0             0              0           never  27.32   \n",
              "3  Female  36.0             0              0         current  23.45   \n",
              "4    Male  76.0             1              1         current  20.14   \n",
              "\n",
              "   HbA1c_level  blood_glucose_level  diabetes  \n",
              "0          6.6                  140         0  \n",
              "1          6.6                   80         0  \n",
              "2          5.7                  158         0  \n",
              "3          5.0                  155         0  \n",
              "4          4.8                  155         0  "
            ]
          },
          "execution_count": 12,
          "metadata": {},
          "output_type": "execute_result"
        }
      ],
      "source": [
        "dataset_name = 'diabetes_prediction_dataset.csv'\n",
        "dataset = pd.read_csv(dataset_name)\n",
        "\n",
        "dataset.head()"
      ]
    },
    {
      "cell_type": "code",
      "execution_count": 13,
      "metadata": {
        "colab": {
          "base_uri": "https://localhost:8080/"
        },
        "id": "xb-5clxatzKu",
        "outputId": "eb458c72-0829-4b41-c041-b94a8ed9ca57"
      },
      "outputs": [
        {
          "name": "stdout",
          "output_type": "stream",
          "text": [
            ">> Dataset shape: (100000, 9)\n"
          ]
        }
      ],
      "source": [
        "print(f\">> Dataset shape: {dataset.shape}\")"
      ]
    },
    {
      "cell_type": "code",
      "execution_count": 14,
      "metadata": {
        "colab": {
          "base_uri": "https://localhost:8080/"
        },
        "id": "tvL5K3_ut67x",
        "outputId": "b472113d-c0f8-47dd-cb9d-b362a0ccbb92"
      },
      "outputs": [
        {
          "name": "stdout",
          "output_type": "stream",
          "text": [
            ">> Proporção das classes: \n",
            "diabetes\n",
            "0    91500\n",
            "1     8500\n",
            "Name: count, dtype: int64\n"
          ]
        }
      ],
      "source": [
        "print(f\">> Proporção das classes: \\n{dataset['diabetes'].value_counts()}\" )"
      ]
    },
    {
      "cell_type": "markdown",
      "metadata": {
        "id": "vLckCpifxgE6"
      },
      "source": [
        "#### **Gerar novos datasets**"
      ]
    },
    {
      "cell_type": "code",
      "execution_count": 15,
      "metadata": {
        "colab": {
          "base_uri": "https://localhost:8080/"
        },
        "id": "dBdsIMzruAJc",
        "outputId": "e3b860a1-9ffd-43b8-a70b-e251537fc514"
      },
      "outputs": [
        {
          "data": {
            "text/plain": [
              "(91500, 9)"
            ]
          },
          "execution_count": 15,
          "metadata": {},
          "output_type": "execute_result"
        }
      ],
      "source": [
        "# Gerar e salvar novo dataset contendo dados negativos\n",
        "diabetes_negative = dataset.loc[dataset['diabetes'] == 0]\n",
        "\n",
        "diabetes_negative.to_csv('diabetes_negative.csv', index=False)\n",
        "diabetes_negative.shape"
      ]
    },
    {
      "cell_type": "code",
      "execution_count": 16,
      "metadata": {
        "colab": {
          "base_uri": "https://localhost:8080/"
        },
        "id": "XY7qsQq8yEg8",
        "outputId": "d3c9561b-41c8-4664-f1e5-78cb1db5a867"
      },
      "outputs": [
        {
          "data": {
            "text/plain": [
              "(8500, 9)"
            ]
          },
          "execution_count": 16,
          "metadata": {},
          "output_type": "execute_result"
        }
      ],
      "source": [
        "# Gerar e salvar novo dataset contendo dados positivos\n",
        "diabetes_positive = dataset.loc[dataset['diabetes'] == 1]\n",
        "\n",
        "diabetes_positive.to_csv('diabetes_positive.csv', index=False)\n",
        "diabetes_positive.shape"
      ]
    },
    {
      "cell_type": "markdown",
      "metadata": {
        "id": "ntsiarl_t0-E"
      },
      "source": [
        "### **Normalizar e Encode**"
      ]
    },
    {
      "cell_type": "code",
      "execution_count": 17,
      "metadata": {
        "id": "grzralDtt0EM"
      },
      "outputs": [],
      "source": [
        "def set(dataset):\n",
        "    X = dataset.drop(columns=['diabetes'])\n",
        "\n",
        "    # Codifica as colunas 'gender', 'smoking_history'\n",
        "    columns_to_encode = ['gender', 'smoking_history']\n",
        "    X_encoded = pd.get_dummies(X, columns=columns_to_encode)\n",
        "    X_train, X_test = train_test_split(X_encoded, test_size=0.2, random_state=1234)\n",
        "\n",
        "    scaler = StandardScaler(with_mean=False)\n",
        "    scaler.fit(X_train)\n",
        "\n",
        "    X_train_scaled = scaler.transform(X_train)\n",
        "    X_test_scaled = scaler.transform(X_test)\n",
        "\n",
        "    return X_train_scaled, X_test_scaled"
      ]
    },
    {
      "cell_type": "code",
      "execution_count": 18,
      "metadata": {
        "id": "TbU2hTHKumwv"
      },
      "outputs": [],
      "source": [
        "X_train_scaled, X_test_scaled = set(diabetes_negative)"
      ]
    },
    {
      "cell_type": "markdown",
      "metadata": {
        "id": "IHx7bnAU5cNE"
      },
      "source": [
        "### **GP**"
      ]
    },
    {
      "cell_type": "code",
      "execution_count": 19,
      "metadata": {
        "id": "IqJJUwOdAE9q"
      },
      "outputs": [],
      "source": [
        "import matplotlib.pyplot as plt\n",
        "# import seaborn as sns\n",
        "\n",
        "from sklearn.mixture import GaussianMixture\n",
        "from scipy.stats import multivariate_normal"
      ]
    },
    {
      "cell_type": "code",
      "execution_count": 20,
      "metadata": {
        "id": "1MyGR3IUIrTu"
      },
      "outputs": [
        {
          "ename": "SyntaxError",
          "evalue": "invalid syntax (3599030753.py, line 1)",
          "output_type": "error",
          "traceback": [
            "\u001b[1;36m  Cell \u001b[1;32mIn[20], line 1\u001b[1;36m\u001b[0m\n\u001b[1;33m    df =\u001b[0m\n\u001b[1;37m        ^\u001b[0m\n\u001b[1;31mSyntaxError\u001b[0m\u001b[1;31m:\u001b[0m invalid syntax\n"
          ]
        }
      ],
      "source": [
        "df ="
      ]
    },
    {
      "cell_type": "code",
      "execution_count": 21,
      "metadata": {
        "id": "mxbv4rb5AH4U"
      },
      "outputs": [],
      "source": [
        "n_components = 50\n",
        "gmm = GaussianMixture(n_components=n_components, random_state=42, covariance_type='full')\n",
        "\n",
        "y_gmm = gmm.fit_predict(X_train_scaled)"
      ]
    },
    {
      "cell_type": "code",
      "execution_count": 22,
      "metadata": {
        "colab": {
          "base_uri": "https://localhost:8080/",
          "height": 406
        },
        "id": "1WbaH3SjH-eu",
        "outputId": "fdcdab89-b94d-4c2d-b314-aff662a78cad"
      },
      "outputs": [
        {
          "ename": "ValueError",
          "evalue": "Length of values (73200) does not match length of index (91500)",
          "output_type": "error",
          "traceback": [
            "\u001b[1;31m---------------------------------------------------------------------------\u001b[0m",
            "\u001b[1;31mValueError\u001b[0m                                Traceback (most recent call last)",
            "\u001b[1;32mc:\\Git\\Machine-Learning-Project\\[CK0255]_Trabalho_Final_GMM.ipynb Cell 17\u001b[0m line \u001b[0;36m4\n\u001b[0;32m      <a href='vscode-notebook-cell:/c%3A/Git/Machine-Learning-Project/%5BCK0255%5D_Trabalho_Final_GMM.ipynb#X22sZmlsZQ%3D%3D?line=1'>2</a>\u001b[0m score \u001b[39m=\u001b[39m gmm\u001b[39m.\u001b[39mscore_samples(X_train_scaled)\n\u001b[0;32m      <a href='vscode-notebook-cell:/c%3A/Git/Machine-Learning-Project/%5BCK0255%5D_Trabalho_Final_GMM.ipynb#X22sZmlsZQ%3D%3D?line=2'>3</a>\u001b[0m \u001b[39m# Save score as a column\u001b[39;00m\n\u001b[1;32m----> <a href='vscode-notebook-cell:/c%3A/Git/Machine-Learning-Project/%5BCK0255%5D_Trabalho_Final_GMM.ipynb#X22sZmlsZQ%3D%3D?line=3'>4</a>\u001b[0m diabetes_negative[\u001b[39m'\u001b[39;49m\u001b[39mscore\u001b[39;49m\u001b[39m'\u001b[39;49m] \u001b[39m=\u001b[39m score\n\u001b[0;32m      <a href='vscode-notebook-cell:/c%3A/Git/Machine-Learning-Project/%5BCK0255%5D_Trabalho_Final_GMM.ipynb#X22sZmlsZQ%3D%3D?line=4'>5</a>\u001b[0m \u001b[39m# Get the score threshold for anomaly\u001b[39;00m\n\u001b[0;32m      <a href='vscode-notebook-cell:/c%3A/Git/Machine-Learning-Project/%5BCK0255%5D_Trabalho_Final_GMM.ipynb#X22sZmlsZQ%3D%3D?line=5'>6</a>\u001b[0m pct_threshold \u001b[39m=\u001b[39m np\u001b[39m.\u001b[39mpercentile(score, \u001b[39m4\u001b[39m)\n",
            "File \u001b[1;32mc:\\Users\\Diego\\AppData\\Local\\Programs\\Python\\Python310\\lib\\site-packages\\pandas\\core\\frame.py:3950\u001b[0m, in \u001b[0;36mDataFrame.__setitem__\u001b[1;34m(self, key, value)\u001b[0m\n\u001b[0;32m   3947\u001b[0m     \u001b[39mself\u001b[39m\u001b[39m.\u001b[39m_setitem_array([key], value)\n\u001b[0;32m   3948\u001b[0m \u001b[39melse\u001b[39;00m:\n\u001b[0;32m   3949\u001b[0m     \u001b[39m# set column\u001b[39;00m\n\u001b[1;32m-> 3950\u001b[0m     \u001b[39mself\u001b[39;49m\u001b[39m.\u001b[39;49m_set_item(key, value)\n",
            "File \u001b[1;32mc:\\Users\\Diego\\AppData\\Local\\Programs\\Python\\Python310\\lib\\site-packages\\pandas\\core\\frame.py:4143\u001b[0m, in \u001b[0;36mDataFrame._set_item\u001b[1;34m(self, key, value)\u001b[0m\n\u001b[0;32m   4133\u001b[0m \u001b[39mdef\u001b[39;00m \u001b[39m_set_item\u001b[39m(\u001b[39mself\u001b[39m, key, value) \u001b[39m-\u001b[39m\u001b[39m>\u001b[39m \u001b[39mNone\u001b[39;00m:\n\u001b[0;32m   4134\u001b[0m \u001b[39m    \u001b[39m\u001b[39m\"\"\"\u001b[39;00m\n\u001b[0;32m   4135\u001b[0m \u001b[39m    Add series to DataFrame in specified column.\u001b[39;00m\n\u001b[0;32m   4136\u001b[0m \n\u001b[1;32m   (...)\u001b[0m\n\u001b[0;32m   4141\u001b[0m \u001b[39m    ensure homogeneity.\u001b[39;00m\n\u001b[0;32m   4142\u001b[0m \u001b[39m    \"\"\"\u001b[39;00m\n\u001b[1;32m-> 4143\u001b[0m     value \u001b[39m=\u001b[39m \u001b[39mself\u001b[39;49m\u001b[39m.\u001b[39;49m_sanitize_column(value)\n\u001b[0;32m   4145\u001b[0m     \u001b[39mif\u001b[39;00m (\n\u001b[0;32m   4146\u001b[0m         key \u001b[39min\u001b[39;00m \u001b[39mself\u001b[39m\u001b[39m.\u001b[39mcolumns\n\u001b[0;32m   4147\u001b[0m         \u001b[39mand\u001b[39;00m value\u001b[39m.\u001b[39mndim \u001b[39m==\u001b[39m \u001b[39m1\u001b[39m\n\u001b[0;32m   4148\u001b[0m         \u001b[39mand\u001b[39;00m \u001b[39mnot\u001b[39;00m is_extension_array_dtype(value)\n\u001b[0;32m   4149\u001b[0m     ):\n\u001b[0;32m   4150\u001b[0m         \u001b[39m# broadcast across multiple columns if necessary\u001b[39;00m\n\u001b[0;32m   4151\u001b[0m         \u001b[39mif\u001b[39;00m \u001b[39mnot\u001b[39;00m \u001b[39mself\u001b[39m\u001b[39m.\u001b[39mcolumns\u001b[39m.\u001b[39mis_unique \u001b[39mor\u001b[39;00m \u001b[39misinstance\u001b[39m(\u001b[39mself\u001b[39m\u001b[39m.\u001b[39mcolumns, MultiIndex):\n",
            "File \u001b[1;32mc:\\Users\\Diego\\AppData\\Local\\Programs\\Python\\Python310\\lib\\site-packages\\pandas\\core\\frame.py:4870\u001b[0m, in \u001b[0;36mDataFrame._sanitize_column\u001b[1;34m(self, value)\u001b[0m\n\u001b[0;32m   4867\u001b[0m     \u001b[39mreturn\u001b[39;00m _reindex_for_setitem(Series(value), \u001b[39mself\u001b[39m\u001b[39m.\u001b[39mindex)\n\u001b[0;32m   4869\u001b[0m \u001b[39mif\u001b[39;00m is_list_like(value):\n\u001b[1;32m-> 4870\u001b[0m     com\u001b[39m.\u001b[39;49mrequire_length_match(value, \u001b[39mself\u001b[39;49m\u001b[39m.\u001b[39;49mindex)\n\u001b[0;32m   4871\u001b[0m \u001b[39mreturn\u001b[39;00m sanitize_array(value, \u001b[39mself\u001b[39m\u001b[39m.\u001b[39mindex, copy\u001b[39m=\u001b[39m\u001b[39mTrue\u001b[39;00m, allow_2d\u001b[39m=\u001b[39m\u001b[39mTrue\u001b[39;00m)\n",
            "File \u001b[1;32mc:\\Users\\Diego\\AppData\\Local\\Programs\\Python\\Python310\\lib\\site-packages\\pandas\\core\\common.py:576\u001b[0m, in \u001b[0;36mrequire_length_match\u001b[1;34m(data, index)\u001b[0m\n\u001b[0;32m    572\u001b[0m \u001b[39m\u001b[39m\u001b[39m\"\"\"\u001b[39;00m\n\u001b[0;32m    573\u001b[0m \u001b[39mCheck the length of data matches the length of the index.\u001b[39;00m\n\u001b[0;32m    574\u001b[0m \u001b[39m\"\"\"\u001b[39;00m\n\u001b[0;32m    575\u001b[0m \u001b[39mif\u001b[39;00m \u001b[39mlen\u001b[39m(data) \u001b[39m!=\u001b[39m \u001b[39mlen\u001b[39m(index):\n\u001b[1;32m--> 576\u001b[0m     \u001b[39mraise\u001b[39;00m \u001b[39mValueError\u001b[39;00m(\n\u001b[0;32m    577\u001b[0m         \u001b[39m\"\u001b[39m\u001b[39mLength of values \u001b[39m\u001b[39m\"\u001b[39m\n\u001b[0;32m    578\u001b[0m         \u001b[39mf\u001b[39m\u001b[39m\"\u001b[39m\u001b[39m(\u001b[39m\u001b[39m{\u001b[39;00m\u001b[39mlen\u001b[39m(data)\u001b[39m}\u001b[39;00m\u001b[39m) \u001b[39m\u001b[39m\"\u001b[39m\n\u001b[0;32m    579\u001b[0m         \u001b[39m\"\u001b[39m\u001b[39mdoes not match length of index \u001b[39m\u001b[39m\"\u001b[39m\n\u001b[0;32m    580\u001b[0m         \u001b[39mf\u001b[39m\u001b[39m\"\u001b[39m\u001b[39m(\u001b[39m\u001b[39m{\u001b[39;00m\u001b[39mlen\u001b[39m(index)\u001b[39m}\u001b[39;00m\u001b[39m)\u001b[39m\u001b[39m\"\u001b[39m\n\u001b[0;32m    581\u001b[0m     )\n",
            "\u001b[1;31mValueError\u001b[0m: Length of values (73200) does not match length of index (91500)"
          ]
        }
      ],
      "source": [
        "# Get the score for each sample\n",
        "score = gmm.score_samples(X_train_scaled)\n",
        "# Save score as a column\n",
        "diabetes_negative['score'] = score\n",
        "# Get the score threshold for anomaly\n",
        "pct_threshold = np.percentile(score, 4)\n",
        "# Print the score threshold\n",
        "print(f'The threshold of the score is {pct_threshold:.2f}')\n",
        "# Label the anomalies\n",
        "diabetes_negative['anomaly_gmm_pct'] = diabetes_negative['score'].apply(lambda x: 1 if x < pct_threshold else 0)"
      ]
    },
    {
      "cell_type": "code",
      "execution_count": null,
      "metadata": {
        "id": "UCso295xAXEk"
      },
      "outputs": [],
      "source": [
        "probs = gmm.predict_proba(X_train_scaled)\n",
        "anomaly_scores = -np.log(np.max(probs, axis=1))\n",
        "threshold = 1.0\n",
        "anomalies = anomaly_scores > threshold"
      ]
    },
    {
      "cell_type": "code",
      "execution_count": null,
      "metadata": {
        "colab": {
          "base_uri": "https://localhost:8080/",
          "height": 472
        },
        "id": "6adDFxZQBbpZ",
        "outputId": "738f11a4-efa2-42fd-bc18-af439881075b"
      },
      "outputs": [
        {
          "data": {
            "image/png": "[encoded data removed]",
            "text/plain": [
              "<Figure size 640x480 with 1 Axes>"
            ]
          },
          "metadata": {},
          "output_type": "display_data"
        }
      ],
      "source": [
        "plt.scatter(range(X_train_scaled.shape[0]), anomaly_scores, c=anomalies, cmap='viridis')\n",
        "plt.axhline(y=threshold, color='r', linestyle='--', label='Threshold')\n",
        "plt.title('Anomaly Detection using Gaussian Mixture Model (GMM)')\n",
        "plt.xlabel('Sample Index')\n",
        "plt.ylabel('Anomaly Score (-log likelihood)')\n",
        "plt.legend()\n",
        "plt.show()"
      ]
    },
    {
      "cell_type": "code",
      "execution_count": null,
      "metadata": {
        "colab": {
          "base_uri": "https://localhost:8080/"
        },
        "id": "ESaKLLMxFmdT",
        "outputId": "d4686423-a9d3-4576-f23f-fa6c10d4fb65"
      },
      "outputs": [
        {
          "name": "stdout",
          "output_type": "stream",
          "text": [
            "Valores Anômalos:\n",
            "[[0.85180685 0.         0.         3.80723788 3.60267023 2.92434731\n",
            "  2.03392637 0.         0.         2.06362169 0.         0.\n",
            "  0.         0.         0.        ]\n",
            " [0.71731103 0.         0.         5.86962273 6.79360672 2.33947785\n",
            "  2.03392637 0.         0.         2.06362169 0.         0.\n",
            "  0.         0.         0.        ]\n",
            " [0.89663878 0.         0.         3.08100175 6.27893954 2.92434731\n",
            "  2.03392637 0.         0.         2.06362169 0.         0.\n",
            "  0.         0.         0.        ]\n",
            " [0.62764715 0.         0.         4.0021584  4.63200458 2.92434731\n",
            "  0.         2.03409385 0.         2.06362169 0.         0.\n",
            "  0.         0.         0.        ]\n",
            " [0.67247909 0.         0.         4.29453918 4.63200458 2.92434731\n",
            "  2.03392637 0.         0.         2.06362169 0.         0.\n",
            "  0.         0.         0.        ]\n",
            " [0.67247909 0.         0.         4.29453918 4.63200458 2.92434731\n",
            "  2.03392637 0.         0.         2.06362169 0.         0.\n",
            "  0.         0.         0.        ]\n",
            " [1.83810951 0.         0.         6.31605359 5.8672058  2.48569521\n",
            "  2.03392637 0.         0.         0.         0.         0.\n",
            "  0.         2.1021602  0.        ]\n",
            " [0.89663878 0.         0.         5.836612   6.79360672 2.63191258\n",
            "  2.03392637 0.         0.         2.06362169 0.         0.\n",
            "  0.         0.         0.        ]\n",
            " [0.98630266 0.         0.         2.98668537 5.14667176 4.53273833\n",
            "  2.03392637 0.         0.         2.06362169 0.         0.\n",
            "  0.         0.         0.        ]\n",
            " [0.71731103 0.         0.         4.08861508 5.97013924 2.92434731\n",
            "  2.03392637 0.         0.         2.06362169 0.         0.\n",
            "  0.         0.         0.        ]\n",
            " [0.71731103 0.         0.         3.85596801 6.79360672 2.92434731\n",
            "  2.03392637 0.         0.         2.06362169 0.         0.\n",
            "  0.         0.         0.        ]]\n"
          ]
        }
      ],
      "source": [
        "# Imprimir valores anômalos\n",
        "print(\"Valores Anômalos:\")\n",
        "print(X_train_scaled[anomalies])"
      ]
    },
    {
      "cell_type": "code",
      "execution_count": null,
      "metadata": {
        "id": "RdokRy-HCxmH"
      },
      "outputs": [],
      "source": []
    }
  ],
  "metadata": {
    "colab": {
      "provenance": []
    },
    "kernelspec": {
      "display_name": "Python 3",
      "name": "python3"
    },
    "language_info": {
      "codemirror_mode": {
        "name": "ipython",
        "version": 3
      },
      "file_extension": ".py",
      "mimetype": "text/x-python",
      "name": "python",
      "nbconvert_exporter": "python",
      "pygments_lexer": "ipython3",
      "version": "3.10.10"
    }
  },
  "nbformat": 4,
  "nbformat_minor": 0
}
