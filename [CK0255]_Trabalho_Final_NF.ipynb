{
  "cells": [
    {
      "cell_type": "markdown",
      "metadata": {
        "id": "lKcIXLS6tl3s"
      },
      "source": [
        "### **Bibliotecas**"
      ]
    },
    {
      "cell_type": "code",
      "execution_count": 1,
      "metadata": {
        "id": "B5X4p-yitg1m"
      },
      "outputs": [],
      "source": [
        "import pandas as pd\n",
        "import numpy as np\n",
        "\n",
        "from sklearn.preprocessing import StandardScaler\n",
        "from sklearn.model_selection import train_test_split"
      ]
    },
    {
      "cell_type": "markdown",
      "metadata": {
        "id": "tyzjaKV2tO1P"
      },
      "source": [
        "### **Import Data**"
      ]
    },
    {
      "cell_type": "code",
      "execution_count": 2,
      "metadata": {
        "colab": {
          "base_uri": "https://localhost:8080/",
          "height": 226
        },
        "id": "7_g81QsJsfuF",
        "outputId": "97c65c1b-3e97-4b9c-8d3f-1569e74ec8e0"
      },
      "outputs": [
        {
          "data": {
            "text/html": [
              "<div>\n",
              "<style scoped>\n",
              "    .dataframe tbody tr th:only-of-type {\n",
              "        vertical-align: middle;\n",
              "    }\n",
              "\n",
              "    .dataframe tbody tr th {\n",
              "        vertical-align: top;\n",
              "    }\n",
              "\n",
              "    .dataframe thead th {\n",
              "        text-align: right;\n",
              "    }\n",
              "</style>\n",
              "<table border=\"1\" class=\"dataframe\">\n",
              "  <thead>\n",
              "    <tr style=\"text-align: right;\">\n",
              "      <th></th>\n",
              "      <th>gender</th>\n",
              "      <th>age</th>\n",
              "      <th>hypertension</th>\n",
              "      <th>heart_disease</th>\n",
              "      <th>smoking_history</th>\n",
              "      <th>bmi</th>\n",
              "      <th>HbA1c_level</th>\n",
              "      <th>blood_glucose_level</th>\n",
              "      <th>diabetes</th>\n",
              "    </tr>\n",
              "  </thead>\n",
              "  <tbody>\n",
              "    <tr>\n",
              "      <th>0</th>\n",
              "      <td>Female</td>\n",
              "      <td>80.0</td>\n",
              "      <td>0</td>\n",
              "      <td>1</td>\n",
              "      <td>never</td>\n",
              "      <td>25.19</td>\n",
              "      <td>6.6</td>\n",
              "      <td>140</td>\n",
              "      <td>0</td>\n",
              "    </tr>\n",
              "    <tr>\n",
              "      <th>1</th>\n",
              "      <td>Female</td>\n",
              "      <td>54.0</td>\n",
              "      <td>0</td>\n",
              "      <td>0</td>\n",
              "      <td>No Info</td>\n",
              "      <td>27.32</td>\n",
              "      <td>6.6</td>\n",
              "      <td>80</td>\n",
              "      <td>0</td>\n",
              "    </tr>\n",
              "    <tr>\n",
              "      <th>2</th>\n",
              "      <td>Male</td>\n",
              "      <td>28.0</td>\n",
              "      <td>0</td>\n",
              "      <td>0</td>\n",
              "      <td>never</td>\n",
              "      <td>27.32</td>\n",
              "      <td>5.7</td>\n",
              "      <td>158</td>\n",
              "      <td>0</td>\n",
              "    </tr>\n",
              "    <tr>\n",
              "      <th>3</th>\n",
              "      <td>Female</td>\n",
              "      <td>36.0</td>\n",
              "      <td>0</td>\n",
              "      <td>0</td>\n",
              "      <td>current</td>\n",
              "      <td>23.45</td>\n",
              "      <td>5.0</td>\n",
              "      <td>155</td>\n",
              "      <td>0</td>\n",
              "    </tr>\n",
              "    <tr>\n",
              "      <th>4</th>\n",
              "      <td>Male</td>\n",
              "      <td>76.0</td>\n",
              "      <td>1</td>\n",
              "      <td>1</td>\n",
              "      <td>current</td>\n",
              "      <td>20.14</td>\n",
              "      <td>4.8</td>\n",
              "      <td>155</td>\n",
              "      <td>0</td>\n",
              "    </tr>\n",
              "  </tbody>\n",
              "</table>\n",
              "</div>"
            ],
            "text/plain": [
              "   gender   age  hypertension  heart_disease smoking_history    bmi  \\\n",
              "0  Female  80.0             0              1           never  25.19   \n",
              "1  Female  54.0             0              0         No Info  27.32   \n",
              "2    Male  28.0             0              0           never  27.32   \n",
              "3  Female  36.0             0              0         current  23.45   \n",
              "4    Male  76.0             1              1         current  20.14   \n",
              "\n",
              "   HbA1c_level  blood_glucose_level  diabetes  \n",
              "0          6.6                  140         0  \n",
              "1          6.6                   80         0  \n",
              "2          5.7                  158         0  \n",
              "3          5.0                  155         0  \n",
              "4          4.8                  155         0  "
            ]
          },
          "execution_count": 2,
          "metadata": {},
          "output_type": "execute_result"
        }
      ],
      "source": [
        "dataset_name = 'diabetes_prediction_dataset.csv'\n",
        "dataset = pd.read_csv(dataset_name)\n",
        "\n",
        "dataset.head()"
      ]
    },
    {
      "cell_type": "code",
      "execution_count": 3,
      "metadata": {
        "colab": {
          "base_uri": "https://localhost:8080/"
        },
        "id": "xb-5clxatzKu",
        "outputId": "e9c90be3-04f3-4564-9153-07b148187de0"
      },
      "outputs": [
        {
          "name": "stdout",
          "output_type": "stream",
          "text": [
            ">> Dataset shape: (100000, 9)\n"
          ]
        }
      ],
      "source": [
        "print(f\">> Dataset shape: {dataset.shape}\")"
      ]
    },
    {
      "cell_type": "code",
      "execution_count": 4,
      "metadata": {
        "colab": {
          "base_uri": "https://localhost:8080/"
        },
        "id": "tvL5K3_ut67x",
        "outputId": "29a42351-c490-4727-877c-7da45250b7dc"
      },
      "outputs": [
        {
          "name": "stdout",
          "output_type": "stream",
          "text": [
            ">> Proporção das classes: \n",
            "diabetes\n",
            "0    91500\n",
            "1     8500\n",
            "Name: count, dtype: int64\n"
          ]
        }
      ],
      "source": [
        "print(f\">> Proporção das classes: \\n{dataset['diabetes'].value_counts()}\" )"
      ]
    },
    {
      "cell_type": "markdown",
      "metadata": {
        "id": "vLckCpifxgE6"
      },
      "source": [
        "#### **Gerar novos datasets**"
      ]
    },
    {
      "cell_type": "code",
      "execution_count": 5,
      "metadata": {
        "colab": {
          "base_uri": "https://localhost:8080/"
        },
        "id": "dBdsIMzruAJc",
        "outputId": "c60f1c30-8596-480f-b1e1-53330b0279bd"
      },
      "outputs": [],
      "source": [
        "diabetes_dataset = pd.read_csv('diabetes_prediction_dataset.csv')\n",
        "\n",
        "train_dataset, test_dataset = train_test_split(diabetes_dataset, test_size=0.3, random_state=42)\n",
        "\n",
        "# Gerar e salvar novo dataset contendo dados negativos\n",
        "diabetes_negative = train_dataset.loc[diabetes_dataset['diabetes'] == 0]"
      ]
    },
    {
      "cell_type": "markdown",
      "metadata": {
        "id": "ntsiarl_t0-E"
      },
      "source": [
        "### **Normalizar e Encode**"
      ]
    },
    {
      "cell_type": "code",
      "execution_count": 6,
      "metadata": {
        "id": "grzralDtt0EM"
      },
      "outputs": [],
      "source": [
        "def set(diabetes_negative, test_dataset):\n",
        "    X_train = diabetes_negative.drop(columns=['diabetes'])\n",
        "    X_test = test_dataset.drop(columns=['diabetes'])\n",
        "    y_test = test_dataset['diabetes']\n",
        "\n",
        "    # Codifica as colunas 'gender', 'smoking_history'\n",
        "    columns_to_encode = ['gender', 'smoking_history']\n",
        "    X_train_encoded = pd.get_dummies(X_train, columns=columns_to_encode)\n",
        "    X_test_encoded = pd.get_dummies(X_test, columns=columns_to_encode)\n",
        "\n",
        "    scaler = StandardScaler(with_mean=False)\n",
        "    scaler.fit(X_train_encoded)\n",
        "\n",
        "    X_train_scaled = scaler.transform(X_train_encoded)\n",
        "    X_test_scaled = scaler.transform(X_test_encoded)\n",
        "\n",
        "    return X_train_scaled, X_test_scaled, y_test"
      ]
    },
    {
      "cell_type": "code",
      "execution_count": 7,
      "metadata": {
        "id": "TbU2hTHKumwv"
      },
      "outputs": [],
      "source": [
        "X_train_scaled, X_test_scaled, y_test = set(diabetes_negative, test_dataset)"
      ]
    },
    {
      "cell_type": "code",
      "execution_count": 8,
      "metadata": {
        "colab": {
          "base_uri": "https://localhost:8080/"
        },
        "id": "Q4TbP0uLD0EH",
        "outputId": "a5c6fa1b-cf38-427b-a564-09e2a08fd2d2"
      },
      "outputs": [
        {
          "name": "stdout",
          "output_type": "stream",
          "text": [
            "X_train shape: (64047, 15)\n",
            "X_test shape: (30000, 15)\n",
            "y_test shape: (30000,)\n"
          ]
        }
      ],
      "source": [
        "print(f\"X_train shape: {X_train_scaled.shape}\")\n",
        "print(f\"X_test shape: {X_test_scaled.shape}\")\n",
        "print(f\"y_test shape: {y_test.shape}\")"
      ]
    },
    {
      "cell_type": "markdown",
      "metadata": {
        "id": "01v8TwC-bfyd"
      },
      "source": [
        "### **NF**"
      ]
    },
    {
      "cell_type": "code",
      "execution_count": 9,
      "metadata": {
        "colab": {
          "base_uri": "https://localhost:8080/"
        },
        "id": "RdokRy-HCxmH",
        "outputId": "300541fc-3a2c-4853-de2f-6d3aaa1131d8"
      },
      "outputs": [
        {
          "name": "stdout",
          "output_type": "stream",
          "text": [
            "Requirement already satisfied: normflows in c:\\python311\\lib\\site-packages (1.7.3)\n",
            "Requirement already satisfied: numpy in c:\\python311\\lib\\site-packages (from normflows) (1.26.0)\n",
            "Requirement already satisfied: torch in c:\\python311\\lib\\site-packages (from normflows) (2.1.1)\n",
            "Requirement already satisfied: filelock in c:\\python311\\lib\\site-packages (from torch->normflows) (3.13.1)\n",
            "Requirement already satisfied: typing-extensions in c:\\python311\\lib\\site-packages (from torch->normflows) (4.8.0)\n",
            "Requirement already satisfied: sympy in c:\\python311\\lib\\site-packages (from torch->normflows) (1.12)\n",
            "Requirement already satisfied: networkx in c:\\python311\\lib\\site-packages (from torch->normflows) (3.2.1)\n",
            "Requirement already satisfied: jinja2 in c:\\python311\\lib\\site-packages (from torch->normflows) (3.1.2)\n",
            "Requirement already satisfied: fsspec in c:\\python311\\lib\\site-packages (from torch->normflows) (2023.10.0)\n",
            "Requirement already satisfied: MarkupSafe>=2.0 in c:\\python311\\lib\\site-packages (from jinja2->torch->normflows) (2.1.3)\n",
            "Requirement already satisfied: mpmath>=0.19 in c:\\python311\\lib\\site-packages (from sympy->torch->normflows) (1.3.0)\n"
          ]
        }
      ],
      "source": [
        "!pip install normflows"
      ]
    },
    {
      "cell_type": "code",
      "execution_count": 10,
      "metadata": {
        "id": "hpyLo5ZTR1FQ"
      },
      "outputs": [],
      "source": [
        "# Import required packages\n",
        "import torch\n",
        "import torchvision as tv\n",
        "import numpy as np\n",
        "import normflows as nf\n",
        "import torch.optim as optim\n",
        "from sklearn.metrics import roc_curve, auc\n",
        "\n",
        "from matplotlib import pyplot as plt\n",
        "from tqdm import tqdm"
      ]
    },
    {
      "cell_type": "code",
      "execution_count": 11,
      "metadata": {
        "id": "vob6-idPB2yf"
      },
      "outputs": [],
      "source": [
        "torch.manual_seed(42)\n",
        "np.random.seed(42)\n",
        "\n",
        "# Convert NumPy arrays to PyTorch tensors\n",
        "X_train_tensor = torch.tensor(X_train_scaled, dtype=torch.float32)\n",
        "X_test_tensor = torch.tensor(X_test_scaled, dtype=torch.float32)"
      ]
    },
    {
      "cell_type": "code",
      "execution_count": 12,
      "metadata": {
        "id": "qIN7Qw3jR67y"
      },
      "outputs": [],
      "source": [
        "# Define 64-dimensional Gaussian base distribution (adjust as needed)\n",
        "base = nf.distributions.base.DiagGaussian(15)\n",
        "\n",
        "# Define list of flows\n",
        "num_layers = 16\n",
        "flows = []\n",
        "for i in range(num_layers):\n",
        "    # Neural network with two hidden layers having 64 units each\n",
        "    # Last layer is initialized by zeros making training more stable\n",
        "    param_map = nf.nets.MLP([8, 64, 64, 64, 128, 64, 2], init_zeros=True)\n",
        "    # Add flow layer\n",
        "    flows.append(nf.flows.AffineCouplingBlock(param_map))\n",
        "    # Swap dimensions\n",
        "    flows.append(nf.flows.Permute(2, mode='swap'))"
      ]
    },
    {
      "cell_type": "code",
      "execution_count": 13,
      "metadata": {
        "id": "Sap1W_36WPdP"
      },
      "outputs": [],
      "source": [
        "# Define Normalizing Flow model\n",
        "model = nf.NormalizingFlow(base, flows)\n",
        "\n",
        "# Define optimizer\n",
        "optimizer = optim.Adam(model.parameters(), lr=0.001)"
      ]
    },
    {
      "cell_type": "code",
      "execution_count": 14,
      "metadata": {
        "id": "rZXnWLQidT1z"
      },
      "outputs": [],
      "source": [
        "# If the target density is not given\n",
        "model = nf.NormalizingFlow(base, flows)"
      ]
    },
    {
      "cell_type": "code",
      "execution_count": 15,
      "metadata": {
        "colab": {
          "base_uri": "https://localhost:8080/"
        },
        "id": "NRoOnls_WexN",
        "outputId": "2599a26e-bcd2-4f66-ad4d-f68eefe9e418"
      },
      "outputs": [
        {
          "name": "stdout",
          "output_type": "stream",
          "text": [
            "Epoch 0/500, Loss: 56.73697280883789\n",
            "Epoch 100/500, Loss: 15.582576751708984\n",
            "Epoch 200/500, Loss: 14.239214897155762\n",
            "Epoch 300/500, Loss: 13.244946479797363\n",
            "Epoch 400/500, Loss: 10.690258979797363\n"
          ]
        }
      ],
      "source": [
        "# Train the Normalizing Flow model\n",
        "num_epochs = 500\n",
        "for epoch in range(num_epochs):\n",
        "    optimizer.zero_grad()\n",
        "\n",
        "    # Forward KL divergence (no target distribution given)\n",
        "    loss = model.forward_kld(X_train_tensor)\n",
        "\n",
        "    # Optimization step\n",
        "    loss.backward()\n",
        "    optimizer.step()\n",
        "\n",
        "    if epoch % 100 == 0:\n",
        "        print(f\"Epoch {epoch}/{num_epochs}, Loss: {loss.item()}\")"
      ]
    },
    {
      "cell_type": "code",
      "execution_count": 16,
      "metadata": {
        "id": "SakK84ksRTGt"
      },
      "outputs": [
        {
          "data": {
            "image/png": "[encoded data removed]",
            "text/plain": [
              "<Figure size 800x600 with 1 Axes>"
            ]
          },
          "metadata": {},
          "output_type": "display_data"
        }
      ],
      "source": [
        "# Calculate anomaly scores for each sample in the test set\n",
        "with torch.no_grad():\n",
        "    anomaly_scores = -model.log_prob(X_test_tensor)\n",
        "\n",
        "# print(anomaly_scores[5])\n",
        "# # Define um limiar para detecção de anomalia\n",
        "threshold = np.percentile(anomaly_scores.numpy(), 95)\n",
        "\n",
        "# # Identifica instâncias com pontuações de anomalia acima do limiar\n",
        "predicted_labels = (anomaly_scores > torch.tensor(threshold)).numpy()\n",
        "\n",
        "# Calcula a curva ROC\n",
        "fpr, tpr, _ = roc_curve(y_test, anomaly_scores.numpy())\n",
        "roc_auc = auc(fpr, tpr)\n",
        "\n",
        "# Plota a curva ROC\n",
        "plt.figure(figsize=(8, 6))\n",
        "plt.plot(fpr, tpr, color='darkorange', lw=2, label=f'AUC = {roc_auc:.2f}')\n",
        "plt.plot([0, 1], [0, 1], color='navy', lw=2, linestyle='--')\n",
        "plt.xlim([0.0, 1.0])\n",
        "plt.ylim([0.0, 1.05])\n",
        "plt.xlabel('Taxa de Falso Positivo (FPR)')\n",
        "plt.ylabel('Taxa de Verdadeiro Positivo (TPR)')\n",
        "plt.title('Curva ROC para Detecção de Anomalias')\n",
        "plt.legend(loc=\"lower right\")\n",
        "plt.show()"
      ]
    }
  ],
  "metadata": {
    "colab": {
      "collapsed_sections": [
        "IHx7bnAU5cNE"
      ],
      "provenance": []
    },
    "kernelspec": {
      "display_name": "Python 3",
      "name": "python3"
    },
    "language_info": {
      "codemirror_mode": {
        "name": "ipython",
        "version": 3
      },
      "file_extension": ".py",
      "mimetype": "text/x-python",
      "name": "python",
      "nbconvert_exporter": "python",
      "pygments_lexer": "ipython3",
      "version": "3.11.5"
    }
  },
  "nbformat": 4,
  "nbformat_minor": 0
}
